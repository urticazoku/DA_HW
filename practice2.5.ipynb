{
 "cells": [
  {
   "cell_type": "code",
   "execution_count": 41,
   "metadata": {
    "collapsed": true
   },
   "outputs": [],
   "source": [
    "import numpy as np\n",
    "import math\n",
    "import matplotlib.pyplot as plt\n",
    "import matplotlib as mat\n",
    "import scipy\n",
    "from scipy.optimize import minimize, differential_evolution\n",
    "def f(x):\n",
    "    return np.sin(x/5.)*np.exp(x/10.) + 5.*np.exp(-x/2.)"
   ]
  },
  {
   "cell_type": "code",
   "execution_count": 52,
   "metadata": {
    "collapsed": false
   },
   "outputs": [
    {
     "name": "stdout",
     "output_type": "stream",
     "text": [
      "      fun: 1.7452682903449388\n",
      " hess_inv: array([[ 5.98752437]])\n",
      "      jac: array([ -2.07126141e-06])\n",
      "  message: 'Optimization terminated successfully.'\n",
      "     nfev: 21\n",
      "      nit: 6\n",
      "     njev: 7\n",
      "   status: 0\n",
      "  success: True\n",
      "        x: array([ 4.13627618])       fun: -11.898894665981265\n",
      " hess_inv: array([[ 1.67840334]])\n",
      "      jac: array([  1.19209290e-07])\n",
      "  message: 'Optimization terminated successfully.'\n",
      "     nfev: 18\n",
      "      nit: 5\n",
      "     njev: 6\n",
      "   status: 0\n",
      "  success: True\n",
      "        x: array([ 25.88019347])\n",
      "1.75 -11.9\n"
     ]
    }
   ],
   "source": [
    "x0=np.array([2.])\n",
    "x1=np.array([30.])\n",
    "r0=minimize(f,x0,method='bfgs')\n",
    "r1=minimize(f,x1,method='bfgs')\n",
    "print r0,r1\n",
    "print round(r0.fun,2), round(r1.fun,2)"
   ]
  },
  {
   "cell_type": "code",
   "execution_count": 53,
   "metadata": {
    "collapsed": false
   },
   "outputs": [],
   "source": [
    "bounds=[(1,30)]\n",
    "res=differential_evolution(f,bounds)"
   ]
  },
  {
   "cell_type": "code",
   "execution_count": 56,
   "metadata": {
    "collapsed": false
   },
   "outputs": [
    {
     "name": "stdout",
     "output_type": "stream",
     "text": [
      "     fun: array([-11.89889467])\n",
      "     jac: array([ -3.55271368e-07])\n",
      " message: 'Optimization terminated successfully.'\n",
      "    nfev: 83\n",
      "     nit: 4\n",
      " success: True\n",
      "       x: array([ 25.88019207]) \n",
      "-11.9\n"
     ]
    }
   ],
   "source": [
    "print res,\"\\n\",round(res.fun,2)"
   ]
  },
  {
   "cell_type": "code",
   "execution_count": 58,
   "metadata": {
    "collapsed": false
   },
   "outputs": [],
   "source": [
    "def h(x):\n",
    "    return int(f(x))"
   ]
  },
  {
   "cell_type": "code",
   "execution_count": 59,
   "metadata": {
    "collapsed": true
   },
   "outputs": [],
   "source": [
    "x1=np.array([30.])\n",
    "r1=minimize(h,x1,method='bfgs')"
   ]
  },
  {
   "cell_type": "code",
   "execution_count": 62,
   "metadata": {
    "collapsed": false
   },
   "outputs": [
    {
     "name": "stdout",
     "output_type": "stream",
     "text": [
      "-5\n"
     ]
    }
   ],
   "source": [
    "print r1.fun"
   ]
  },
  {
   "cell_type": "code",
   "execution_count": 63,
   "metadata": {
    "collapsed": false
   },
   "outputs": [
    {
     "name": "stdout",
     "output_type": "stream",
     "text": [
      "     fun: -11.0\n",
      " message: 'Optimization terminated successfully.'\n",
      "    nfev: 107\n",
      "     nit: 6\n",
      " success: True\n",
      "       x: array([ 24.54701079]) \n",
      "-11.0\n"
     ]
    }
   ],
   "source": [
    "bounds=[(1,30)]\n",
    "res=differential_evolution(h,bounds)\n",
    "print res,\"\\n\",res.fun"
   ]
  },
  {
   "cell_type": "code",
   "execution_count": null,
   "metadata": {
    "collapsed": true
   },
   "outputs": [],
   "source": []
  }
 ],
 "metadata": {
  "kernelspec": {
   "display_name": "Python 2",
   "language": "python",
   "name": "python2"
  },
  "language_info": {
   "codemirror_mode": {
    "name": "ipython",
    "version": 2
   },
   "file_extension": ".py",
   "mimetype": "text/x-python",
   "name": "python",
   "nbconvert_exporter": "python",
   "pygments_lexer": "ipython2",
   "version": "2.7.11"
  }
 },
 "nbformat": 4,
 "nbformat_minor": 0
}
